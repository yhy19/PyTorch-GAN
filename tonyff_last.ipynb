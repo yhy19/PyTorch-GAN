{
  "cells": [
    {
      "cell_type": "markdown",
      "metadata": {
        "id": "6ZV95cvmGy3X"
      },
      "source": [
        "单图AI换脸！  \n",
        "\n",
        "可以使用图片去换图片，也可以用图片换视频。  \n",
        "\n",
        "使用方法，只要依次点击或者全部运行就可以了。运行成功点击网址打开即可使用。软件的具体使用可以参考[使用教程](https://www.tonyisstark.com/1863.html)。  \n",
        "\n",
        "\n",
        "注意事项：默默使用即可，不用分享，谷歌被刷多了开始各种限制了。\n",
        "  \n",
        "该脚本仅供学习研究，严禁用于违法违规的场景。"
      ]
    },
    {
      "cell_type": "code",
      "execution_count": null,
      "metadata": {
        "id": "LfXDWmk99Ntp",
        "cellView": "form"
      },
      "outputs": [],
      "source": [
        "#@title 1.获取代码\n",
        "\n",
        "tag = 'v3.6.0' #@param [\"v3.6.0\", ] {allow-input: true}\n",
        "\n",
        "!git clone https://github.com/dream80/tonyff.git\n",
        "%cd /content/tonyff\n",
        "!git checkout {tag}"
      ]
    },
    {
      "cell_type": "code",
      "execution_count": null,
      "metadata": {
        "id": "xRbseCrr-h_Q",
        "cellView": "form"
      },
      "outputs": [],
      "source": [
        "#@title 2.安装依赖\n",
        "\n",
        "%cd /content/tonyff\n",
        "!python install.py --skip-conda --onnxruntime cuda-12.2\n"
      ]
    },
    {
      "cell_type": "code",
      "execution_count": 10,
      "metadata": {
        "id": "nll7dBV6-7yU",
        "cellView": "form",
        "outputId": "807f5830-e705-4c85-bf4d-26c5fc6bcda2",
        "colab": {
          "base_uri": "https://localhost:8080/"
        }
      },
      "outputs": [
        {
          "output_type": "stream",
          "name": "stdout",
          "text": [
            "Traceback (most recent call last):\n",
            "  File \"/content/tonyff/run.py\", line 6, in <module>\n",
            "    core.run()\n",
            "TypeError: run() missing 1 required positional argument: 'program'\n"
          ]
        }
      ],
      "source": [
        "#@title 3.运行软件\n",
        "!python run.py"
      ]
    },
    {
      "cell_type": "markdown",
      "source": [
        "脚本来源：[tonyff](https://github.com/dream80/roop_colab)  \n",
        "原项目：[facefusion](https://github.com/facefusion/facefusion)  \n",
        "关联脚本：[roop](https://colab.research.google.com/github/dream80/roop_colab/blob/main/roop_v1_3.ipynb)\n",
        "\n",
        "\n",
        "\n",
        "公众号：托尼不是塔克  \n",
        "个人博客：[tonyisstark.com](https://www.tonyisstark.com)  "
      ],
      "metadata": {
        "id": "Rg6t68D_5BtS"
      }
    }
  ],
  "metadata": {
    "accelerator": "GPU",
    "colab": {
      "provenance": []
    },
    "kernelspec": {
      "display_name": "Python 3",
      "name": "python3"
    },
    "language_info": {
      "name": "python"
    }
  },
  "nbformat": 4,
  "nbformat_minor": 0
}